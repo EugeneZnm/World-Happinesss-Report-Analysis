{
 "cells": [
  {
   "cell_type": "markdown",
   "metadata": {},
   "source": [
    "# WORLD HAPPINES REPORT ANALYSIS\n",
    "\n",
    "World Happiness Report, an annual report created by the UN Sustainable Development Solutions Network with the which assigns each country a happiness score based on the answers to a poll question that asks respondents to rank their life on a scale of 0 - 10.\n",
    "\n",
    "It also includes estimates of factors that may contribute to each country's happiness, including economic production, social support, life expectancy, freedom, absence of corruption, and generosity, to provide context for the score. Although these factors aren't actually used in the calculation of the happiness score, they can help illustrate why a country received a certain score.\n",
    "\n",
    "Below are descriptions for some of the columns we'll be working with:\n",
    "\n",
    "- Country - Name of the country.\n",
    "- Region - Name of the region the country belongs to.\n",
    "- Happiness Rank - The rank of the country, as determined by its happiness score.\n",
    "- Happiness Score - A score assigned to each country based on the answers to a poll question that asks respondents to rate their happiness on a scale of 0-10.\n",
    "- Family - The estimated extent to which family contributes to the happiness score.\n",
    "- Freedom - The estimated extent to which freedom contributes to the happiness score.\n",
    "- Generosity - The estimated extent to which generosity contributes to the happiness score.\n",
    "\n",
    "This analysis aims to answer the following questions:\n",
    "\n",
    "- How can aggregating the data give us more insight into happiness scores?\n",
    "- How did world happiness change from 2015 to 2017?\n",
    "- Which factors contribute the most to the happiness score?"
   ]
  },
  {
   "cell_type": "code",
   "execution_count": null,
   "metadata": {},
   "outputs": [],
   "source": []
  }
 ],
 "metadata": {
  "kernelspec": {
   "display_name": "Python 3",
   "language": "python",
   "name": "python3"
  },
  "language_info": {
   "codemirror_mode": {
    "name": "ipython",
    "version": 3
   },
   "file_extension": ".py",
   "mimetype": "text/x-python",
   "name": "python",
   "nbconvert_exporter": "python",
   "pygments_lexer": "ipython3",
   "version": "3.7.3"
  }
 },
 "nbformat": 4,
 "nbformat_minor": 2
}
